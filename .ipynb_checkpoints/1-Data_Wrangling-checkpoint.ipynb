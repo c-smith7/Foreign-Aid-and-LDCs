{
 "cells": [
  {
   "cell_type": "markdown",
   "metadata": {},
   "source": [
    "# Foreign Aid & the World's Least Developed Countries (LDCs)\n",
    "------\n",
    "**Carl Smith**\n",
    "* This notebook contains the data wrangling and cleaning required for this analysis. The wrangled and cleaned data will then be saved and exported to use in the *2-EDA* workbook.   "
   ]
  },
  {
   "cell_type": "markdown",
   "metadata": {},
   "source": [
    "### Table of Contents  <a id='top'></a>\n",
    "<ul>\n",
    "<li><a href=\"#sources\">Data Sources</a></li>\n",
    "<li><a href=\"#analysis\">Wrangling & Cleaning</a></li>\n",
    "<li><a href=\"#export\">Save & Export Data</a></li>\n",
    "</ul>"
   ]
  },
  {
   "cell_type": "markdown",
   "metadata": {},
   "source": [
    "<a id='sources'></a>\n",
    "### Data Sources  <a href=\"#top\" style=\"font-size:12px\">(back to top)</a>"
   ]
  },
  {
   "cell_type": "markdown",
   "metadata": {},
   "source": [
    "* Gapminder data tables, [link to data](https://www.gapminder.org/data/).\n",
    "    - Foreign Aid Received per capita (current USD&#36;)\n",
    "    - Human Devlopment Index (HDI)\n",
    "    - Gini Coefficient\n",
    "    - Total Fertility Rate"
   ]
  },
  {
   "cell_type": "markdown",
   "metadata": {},
   "source": [
    "<a id='analysis'></a>\n",
    "### Data Wrangling & Cleaning  <a href=\"#top\" style=\"font-size:12px\">(back to top)</a>"
   ]
  },
  {
   "cell_type": "code",
   "execution_count": null,
   "metadata": {},
   "outputs": [],
   "source": [
    "import pandas as pd\n",
    "import numpy as np\n",
    "import matplotlib.pyplot as plt\n",
    "import seaborn as sns\n",
    "%matplotlib inline"
   ]
  },
  {
   "cell_type": "code",
   "execution_count": null,
   "metadata": {},
   "outputs": [],
   "source": []
  },
  {
   "cell_type": "code",
   "execution_count": null,
   "metadata": {},
   "outputs": [],
   "source": []
  },
  {
   "cell_type": "markdown",
   "metadata": {},
   "source": [
    "<a id='export'></a>\n",
    "### Save & Export Data <a href=\"#top\" style=\"font-size:12px\">(back to top)</a>\n",
    "----"
   ]
  },
  {
   "cell_type": "code",
   "execution_count": null,
   "metadata": {},
   "outputs": [],
   "source": []
  },
  {
   "cell_type": "code",
   "execution_count": null,
   "metadata": {},
   "outputs": [],
   "source": []
  }
 ],
 "metadata": {
  "kernelspec": {
   "display_name": "Python [conda env:root] *",
   "language": "python",
   "name": "conda-root-py"
  },
  "language_info": {
   "codemirror_mode": {
    "name": "ipython",
    "version": 3
   },
   "file_extension": ".py",
   "mimetype": "text/x-python",
   "name": "python",
   "nbconvert_exporter": "python",
   "pygments_lexer": "ipython3",
   "version": "3.7.9"
  }
 },
 "nbformat": 4,
 "nbformat_minor": 4
}
